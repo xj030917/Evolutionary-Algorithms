{
 "cells": [
  {
   "cell_type": "code",
   "execution_count": 57,
   "id": "4627e8c6-3bff-4a99-9ffe-89eee3c464b4",
   "metadata": {},
   "outputs": [],
   "source": [
    "import random\n",
    "import math\n",
    "import numpy as np"
   ]
  },
  {
   "cell_type": "code",
   "execution_count": 130,
   "id": "e5370d56-de2c-4221-99b3-2383ec862868",
   "metadata": {},
   "outputs": [],
   "source": [
    "class TS(object):\n",
    "    def __init__(self):\n",
    "        self.taboo_size = 5\n",
    "        self.iteration = 500\n",
    "        self.w = 0\n",
    "        self.taboo = []\n",
    "    \n",
    "    def res(self, xx):\n",
    "        result = 5*xx[0][0] + 4*xx[0][1]\n",
    "        return result\n",
    "    \n",
    "    def ts_s(self):\n",
    "        new_x = []\n",
    "        flag = 1\n",
    "        while flag:\n",
    "            i = np.random.randint(0, 9)\n",
    "            j = np.random.randint(0, 17)\n",
    "            if 4*i+2*j <= 32 and 2*i+3*j <= 24:\n",
    "                new_x.append([i, j])\n",
    "                flag = 0\n",
    "                break\n",
    "            else:\n",
    "                continue\n",
    "        return new_x\n",
    "    \n",
    "    # 禁忌搜索\n",
    "    def ts(self):\n",
    "        for cnt in range(self.iteration):\n",
    "            x = self.ts_s()\n",
    "            res_1 = self.res(x)\n",
    "            flag = 1\n",
    "            # print(f'第{cnt+1}次, 结果是{res_1}')\n",
    "            # print(self.taboo)\n",
    "            for k in self.taboo:\n",
    "                if res_1 == k[0]:\n",
    "                    # print(f'k是{k[0]}')\n",
    "                    flag = 0\n",
    "                    break\n",
    "            if flag == 0:\n",
    "                continue\n",
    "            # 更新当前的最优解\n",
    "            if res_1 < self.w:\n",
    "                # 更新禁忌表\n",
    "                if len(self.taboo) < self.taboo_size:\n",
    "                    self.taboo.append([res_1, x])\n",
    "                else:\n",
    "                    try:\n",
    "                        min1 = min(self.taboo)\n",
    "                        min1_index = self.taboo.index(min1)\n",
    "                        if res_1 > min1[0]:\n",
    "                            self.taboo.pop(min1_index)\n",
    "                            self.taboo.append([res_1, x])\n",
    "                    except ValueError:\n",
    "                        self.taboo.append([res_1, x])\n",
    "            else:\n",
    "                self.w = res_1\n",
    "                if len(self.taboo) < self.taboo_size:\n",
    "                    self.taboo.append([res_1, x])\n",
    "                try:\n",
    "                    max1 = max(self.taboo)\n",
    "                    if res_1 > max1[0]:\n",
    "                        self.taboo.append([res_1, x])\n",
    "                except ValueError:\n",
    "                    self.taboo.append([res_1, x])\n",
    "            # 禁忌表超长了\n",
    "            if len(self.taboo) > self.taboo_size:\n",
    "                self.taboo = self.taboo[1:]\n",
    "\n",
    "    def run(self):\n",
    "        self.ts()\n",
    "        return self.taboo"
   ]
  },
  {
   "cell_type": "code",
   "execution_count": 131,
   "id": "a3752d67-2f8e-45ce-8848-4e64f1a02a86",
   "metadata": {},
   "outputs": [
    {
     "name": "stdout",
     "output_type": "stream",
     "text": [
      "[[41, [[5, 4]]], [43, [[7, 2]]], [42, [[6, 3]]], [46, [[6, 4]]], [40, [[8, 0]]]]\n",
      "最大销售额为46\n",
      "猫的数量为6只\n",
      "兔子的数量为4只\n"
     ]
    }
   ],
   "source": [
    "model = TS()\n",
    "Best = model.run()\n",
    "print(Best)\n",
    "print(f'最大销售额为{max(Best)[0]}')\n",
    "print(f'猫的数量为{max(Best)[1][0][0]}只')\n",
    "print(f'兔子的数量为{max(Best)[1][0][1]}只')"
   ]
  },
  {
   "cell_type": "code",
   "execution_count": null,
   "id": "fdbdac63-2f4e-4bf0-9a32-f97efb607034",
   "metadata": {},
   "outputs": [],
   "source": []
  }
 ],
 "metadata": {
  "kernelspec": {
   "display_name": "Python 3 (ipykernel)",
   "language": "python",
   "name": "python3"
  },
  "language_info": {
   "codemirror_mode": {
    "name": "ipython",
    "version": 3
   },
   "file_extension": ".py",
   "mimetype": "text/x-python",
   "name": "python",
   "nbconvert_exporter": "python",
   "pygments_lexer": "ipython3",
   "version": "3.9.12"
  }
 },
 "nbformat": 4,
 "nbformat_minor": 5
}
